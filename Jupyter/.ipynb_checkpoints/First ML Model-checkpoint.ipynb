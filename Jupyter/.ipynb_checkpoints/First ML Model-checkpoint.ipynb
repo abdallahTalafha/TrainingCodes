{
 "cells": [
  {
   "cell_type": "code",
   "execution_count": 27,
   "id": "b21444e2",
   "metadata": {},
   "outputs": [
    {
     "name": "stdout",
     "output_type": "stream",
     "text": [
      "247297.68366688187\n"
     ]
    },
    {
     "data": {
      "text/plain": [
       "'print(mean_absolute_error(y,predicted_home_prices))\\n\\nprint(\"Making predictions for the following 5 houses:\")\\nprint(X.head())\\nprint(\"The predictions are\")\\nprint(melbourne_model.predict(X.head()))\\n'"
      ]
     },
     "execution_count": 27,
     "metadata": {},
     "output_type": "execute_result"
    }
   ],
   "source": [
    "import pandas as pd\n",
    "\n",
    "#Define what type of model will it be:\n",
    "from sklearn.tree import DecisionTreeRegressor\n",
    "\n",
    "#To calculate the mean absolute error:\n",
    "from sklearn.metrics import mean_absolute_error\n",
    "\n",
    "#To split the data for training and testing ---***\n",
    "from sklearn.model_selection import train_test_split\n",
    "\n",
    "melbourne_file_path= \"C:/Users/Abdal/Desktop/Python/MachineLearningCodes/melb_data.csv\"\n",
    "melbourne_data = pd.read_csv(melbourne_file_path)\n",
    "\n",
    "#melbourne_data.head()\n",
    "#melbourne_data.columns\n",
    "\n",
    "# dropna drops missing values \n",
    "filtered_melbourne_data = melbourne_data.dropna(axis=0)\n",
    "\n",
    "#Selecting The Prediction Target\n",
    "y=filtered_melbourne_data.Price\n",
    "\n",
    "#Choosing \"Features\"\n",
    "#features: The columns that are inputted into our model (and later used to make predictions).\n",
    "\n",
    "melbourne_features = ['Rooms', 'Bathroom', 'Landsize', 'BuildingArea', 'YearBuilt', 'Lattitude', 'Longtitude']\n",
    "\n",
    "X=filtered_melbourne_data[melbourne_features]\n",
    "\n",
    "#Visually checking data\n",
    "#X.describe()\n",
    "#X.head()\n",
    "\n",
    "#To split the data for training and testing ---***\n",
    "train_X, val_X, train_y, val_y = train_test_split(X, y, random_state = 1)\n",
    "\n",
    "# Define model\n",
    "melbourne_model = DecisionTreeRegressor()\n",
    "\n",
    "# Fit model\n",
    "melbourne_model.fit(train_X, train_y)\n",
    "\n",
    "#calculate the absulute error:\n",
    "#predicted_home_prices = melbourne_model.predict(X)\n",
    "\n",
    "# get predicted prices on validation data\n",
    "val_predictions = melbourne_model.predict(val_X)\n",
    "print(mean_absolute_error(val_y, val_predictions))\n",
    "\n",
    "\"\"\"print(mean_absolute_error(y,predicted_home_prices))\n",
    "\n",
    "print(\"Making predictions for the following 5 houses:\")\n",
    "print(X.head())\n",
    "print(\"The predictions are\")\n",
    "print(melbourne_model.predict(X.head()))\n",
    "\"\"\"\n"
   ]
  },
  {
   "cell_type": "code",
   "execution_count": null,
   "id": "f6919dbc",
   "metadata": {},
   "outputs": [],
   "source": []
  },
  {
   "cell_type": "code",
   "execution_count": null,
   "id": "bca8627c",
   "metadata": {},
   "outputs": [],
   "source": []
  },
  {
   "cell_type": "code",
   "execution_count": null,
   "id": "43013f01",
   "metadata": {},
   "outputs": [],
   "source": []
  }
 ],
 "metadata": {
  "kernelspec": {
   "display_name": "Python 3 (ipykernel)",
   "language": "python",
   "name": "python3"
  },
  "language_info": {
   "codemirror_mode": {
    "name": "ipython",
    "version": 3
   },
   "file_extension": ".py",
   "mimetype": "text/x-python",
   "name": "python",
   "nbconvert_exporter": "python",
   "pygments_lexer": "ipython3",
   "version": "3.9.13"
  }
 },
 "nbformat": 4,
 "nbformat_minor": 5
}
