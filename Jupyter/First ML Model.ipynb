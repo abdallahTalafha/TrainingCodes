{
 "cells": [
  {
   "cell_type": "code",
   "execution_count": 1,
   "id": "b21444e2",
   "metadata": {},
   "outputs": [
    {
     "name": "stdout",
     "output_type": "stream",
     "text": [
      "252113.28147191738\n"
     ]
    },
    {
     "data": {
      "text/plain": [
       "'print(mean_absolute_error(y,predicted_home_prices))\\n\\nprint(\"Making predictions for the following 5 houses:\")\\nprint(X.head())\\nprint(\"The predictions are\")\\nprint(melbourne_model.predict(X.head()))\\n'"
      ]
     },
     "execution_count": 1,
     "metadata": {},
     "output_type": "execute_result"
    }
   ],
   "source": [
    "import pandas as pd\n",
    "\n",
    "#Define what type of model will it be:\n",
    "from sklearn.tree import DecisionTreeRegressor\n",
    "\n",
    "#To calculate the mean absolute error:\n",
    "from sklearn.metrics import mean_absolute_error\n",
    "\n",
    "#To split the data for training and testing ---***\n",
    "from sklearn.model_selection import train_test_split\n",
    "\n",
    "melbourne_file_path= \"C:/Users/Abdal/Desktop/Python/MachineLearningCodes/melb_data.csv\"\n",
    "melbourne_data = pd.read_csv(melbourne_file_path)\n",
    "\n",
    "#melbourne_data.head()\n",
    "#melbourne_data.columns\n",
    "\n",
    "# dropna drops missing values \n",
    "filtered_melbourne_data = melbourne_data.dropna(axis=0)\n",
    "\n",
    "#Selecting The Prediction Target\n",
    "y=filtered_melbourne_data.Price\n",
    "\n",
    "#Choosing \"Features\"\n",
    "#features: The columns that are inputted into our model (and later used to make predictions).\n",
    "\n",
    "melbourne_features = ['Rooms', 'Bathroom', 'Landsize', 'BuildingArea', 'YearBuilt', 'Lattitude', 'Longtitude']\n",
    "\n",
    "X=filtered_melbourne_data[melbourne_features]\n",
    "\n",
    "#Visually checking data\n",
    "#X.describe()\n",
    "#X.head()\n",
    "\n",
    "#To split the data for training and testing ---***\n",
    "train_X, val_X, train_y, val_y = train_test_split(X, y, random_state = 1)\n",
    "\n",
    "# Define model\n",
    "melbourne_model = DecisionTreeRegressor()\n",
    "\n",
    "# Fit model\n",
    "melbourne_model.fit(train_X, train_y)\n",
    "\n",
    "#calculate the absulute error:\n",
    "#predicted_home_prices = melbourne_model.predict(X)\n",
    "\n",
    "# get predicted prices on validation data\n",
    "val_predictions = melbourne_model.predict(val_X)\n",
    "print(mean_absolute_error(val_y, val_predictions))\n",
    "\n",
    "\"\"\"print(mean_absolute_error(y,predicted_home_prices))\n",
    "\n",
    "print(\"Making predictions for the following 5 houses:\")\n",
    "print(X.head())\n",
    "print(\"The predictions are\")\n",
    "print(melbourne_model.predict(X.head()))\n",
    "\"\"\"\n"
   ]
  },
  {
   "cell_type": "code",
   "execution_count": 6,
   "id": "f6919dbc",
   "metadata": {},
   "outputs": [
    {
     "name": "stdout",
     "output_type": "stream",
     "text": [
      "pip 22.3.1 from c:\\Users\\Abdal\\AppData\\Local\\Programs\\Python\\Python311\\Lib\\site-packages\\pip (python 3.11)\n",
      "\n",
      "Note: you may need to restart the kernel to use updated packages.\n"
     ]
    }
   ],
   "source": []
  },
  {
   "cell_type": "code",
   "execution_count": 5,
   "id": "bca8627c",
   "metadata": {},
   "outputs": [
    {
     "name": "stdout",
     "output_type": "stream",
     "text": [
      "Collecting scikit-learn\n",
      "  Downloading scikit_learn-1.2.0-cp311-cp311-win_amd64.whl (8.2 MB)\n",
      "     ---------------------------------------- 8.2/8.2 MB 707.7 kB/s eta 0:00:00\n",
      "Collecting scipy\n",
      "  Downloading scipy-1.10.0-cp311-cp311-win_amd64.whl (42.2 MB)\n",
      "     ---------------------------------------- 42.2/42.2 MB 2.3 MB/s eta 0:00:00\n",
      "Collecting matplotlib\n",
      "  Downloading matplotlib-3.6.2-cp311-cp311-win_amd64.whl (7.2 MB)\n",
      "     ---------------------------------------- 7.2/7.2 MB 2.1 MB/s eta 0:00:00\n",
      "Collecting numpy>=1.17.3\n",
      "  Downloading numpy-1.24.1-cp311-cp311-win_amd64.whl (14.8 MB)\n",
      "     -------------------------------------- 14.8/14.8 MB 716.6 kB/s eta 0:00:00\n",
      "Collecting joblib>=1.1.1\n",
      "  Downloading joblib-1.2.0-py3-none-any.whl (297 kB)\n",
      "     ------------------------------------ 298.0/298.0 kB 409.3 kB/s eta 0:00:00\n",
      "Collecting threadpoolctl>=2.0.0\n",
      "  Downloading threadpoolctl-3.1.0-py3-none-any.whl (14 kB)\n",
      "Collecting contourpy>=1.0.1\n",
      "  Downloading contourpy-1.0.6-cp311-cp311-win_amd64.whl (163 kB)\n",
      "     ------------------------------------ 163.6/163.6 kB 467.5 kB/s eta 0:00:00\n",
      "Collecting cycler>=0.10\n",
      "  Downloading cycler-0.11.0-py3-none-any.whl (6.4 kB)\n",
      "Collecting fonttools>=4.22.0\n",
      "  Downloading fonttools-4.38.0-py3-none-any.whl (965 kB)\n",
      "     ------------------------------------ 965.4/965.4 kB 315.1 kB/s eta 0:00:00\n",
      "Collecting kiwisolver>=1.0.1\n",
      "  Downloading kiwisolver-1.4.4-cp311-cp311-win_amd64.whl (55 kB)\n",
      "     -------------------------------------- 55.4/55.4 kB 728.3 kB/s eta 0:00:00\n",
      "Requirement already satisfied: packaging>=20.0 in c:\\users\\abdal\\appdata\\roaming\\python\\python311\\site-packages (from matplotlib) (22.0)\n",
      "Collecting pillow>=6.2.0\n",
      "  Downloading Pillow-9.4.0-cp311-cp311-win_amd64.whl (2.5 MB)\n",
      "     ---------------------------------------- 2.5/2.5 MB 551.7 kB/s eta 0:00:00\n",
      "Collecting pyparsing>=2.2.1\n",
      "  Downloading pyparsing-3.0.9-py3-none-any.whl (98 kB)\n",
      "     -------------------------------------- 98.3/98.3 kB 704.8 kB/s eta 0:00:00\n",
      "Requirement already satisfied: python-dateutil>=2.7 in c:\\users\\abdal\\appdata\\roaming\\python\\python311\\site-packages (from matplotlib) (2.8.2)\n",
      "Requirement already satisfied: six>=1.5 in c:\\users\\abdal\\appdata\\roaming\\python\\python311\\site-packages (from python-dateutil>=2.7->matplotlib) (1.16.0)\n",
      "Installing collected packages: threadpoolctl, pyparsing, pillow, numpy, kiwisolver, joblib, fonttools, cycler, scipy, contourpy, scikit-learn, matplotlib\n",
      "Note: you may need to restart the kernel to use updated packages.\n"
     ]
    },
    {
     "name": "stderr",
     "output_type": "stream",
     "text": [
      "ERROR: Could not install packages due to an OSError: [WinError 32] The process cannot access the file because it is being used by another process: 'c:\\\\Users\\\\Abdal\\\\AppData\\\\Local\\\\Programs\\\\Python\\\\Python311\\\\Lib\\\\site-packages\\\\scipy\\\\io\\\\matlab\\\\tests\\\\test_mio_funcs.py'\n",
      "Consider using the `--user` option or check the permissions.\n",
      "\n"
     ]
    }
   ],
   "source": []
  },
  {
   "cell_type": "code",
   "execution_count": null,
   "id": "43013f01",
   "metadata": {},
   "outputs": [],
   "source": []
  }
 ],
 "metadata": {
  "kernelspec": {
   "display_name": "Python 3",
   "language": "python",
   "name": "python3"
  },
  "language_info": {
   "codemirror_mode": {
    "name": "ipython",
    "version": 3
   },
   "file_extension": ".py",
   "mimetype": "text/x-python",
   "name": "python",
   "nbconvert_exporter": "python",
   "pygments_lexer": "ipython3",
   "version": "3.11.1 (tags/v3.11.1:a7a450f, Dec  6 2022, 19:58:39) [MSC v.1934 64 bit (AMD64)]"
  },
  "vscode": {
   "interpreter": {
    "hash": "900badf7b39baa3a6e1c72131c674c173a6b67f6f12a1b90fc88b0bd23eec5c6"
   }
  }
 },
 "nbformat": 4,
 "nbformat_minor": 5
}
