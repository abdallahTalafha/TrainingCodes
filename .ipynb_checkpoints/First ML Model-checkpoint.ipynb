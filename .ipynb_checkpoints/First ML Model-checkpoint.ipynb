{
 "cells": [
  {
   "cell_type": "code",
   "execution_count": 1,
   "id": "b21444e2",
   "metadata": {},
   "outputs": [
    {
     "name": "stdout",
     "output_type": "stream",
     "text": [
      "              Rooms      Bathroom       Landsize     Lattitude    Longtitude\n",
      "count  13580.000000  13580.000000   13580.000000  13580.000000  13580.000000\n",
      "mean       2.937997      1.534242     558.416127    -37.809203    144.995216\n",
      "std        0.955748      0.691712    3990.669241      0.079260      0.103916\n",
      "min        1.000000      0.000000       0.000000    -38.182550    144.431810\n",
      "25%        2.000000      1.000000     177.000000    -37.856822    144.929600\n",
      "50%        3.000000      1.000000     440.000000    -37.802355    145.000100\n",
      "75%        3.000000      2.000000     651.000000    -37.756400    145.058305\n",
      "max       10.000000      8.000000  433014.000000    -37.408530    145.526350\n",
      "   Rooms  Bathroom  Landsize  Lattitude  Longtitude\n",
      "0      2       1.0     202.0   -37.7996    144.9984\n",
      "1      2       1.0     156.0   -37.8079    144.9934\n",
      "2      3       2.0     134.0   -37.8093    144.9944\n",
      "3      3       2.0      94.0   -37.7969    144.9969\n",
      "4      4       1.0     120.0   -37.8072    144.9941\n"
     ]
    }
   ],
   "source": [
    "import pandas as pd\n",
    "from sklearn.tree import DecisionTreeRegressor\n",
    "\n",
    "melbourne_file_path= \"C:/Users/Abdal/Desktop/Python/MachineLearningCodes/melb_data.csv\"\n",
    "melbourne_data = pd.read_csv(melbourne_file_path)\n",
    "\n",
    "#print(melbourne_data.head())\n",
    "#print(melbourne_data.columns)\n",
    " # dropna drops missing values \n",
    "#Selecting The Prediction Target\n",
    "\n",
    "y=melbourne_data.Price\n",
    "\n",
    "#Choosing \"Features\"\n",
    "#features: The columns that are inputted into our model (and later used to make predictions).\n",
    "\n",
    "melbourne_features = ['Rooms','Bathroom','Landsize','Lattitude','Longtitude']\n",
    "\n",
    "X=melbourne_data[melbourne_features]\n",
    "\n",
    "print(X.describe())\n",
    "print(X.head())"
   ]
  },
  {
   "cell_type": "code",
   "execution_count": null,
   "id": "f6919dbc",
   "metadata": {},
   "outputs": [],
   "source": []
  }
 ],
 "metadata": {
  "kernelspec": {
   "display_name": "Python 3 (ipykernel)",
   "language": "python",
   "name": "python3"
  },
  "language_info": {
   "codemirror_mode": {
    "name": "ipython",
    "version": 3
   },
   "file_extension": ".py",
   "mimetype": "text/x-python",
   "name": "python",
   "nbconvert_exporter": "python",
   "pygments_lexer": "ipython3",
   "version": "3.9.13"
  }
 },
 "nbformat": 4,
 "nbformat_minor": 5
}
